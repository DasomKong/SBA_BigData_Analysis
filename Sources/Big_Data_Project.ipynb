{
 "cells": [
  {
   "cell_type": "code",
   "execution_count": 8,
   "metadata": {},
   "outputs": [],
   "source": [
    "import pandas as pd\n",
    "import numpy as np\n",
    "import math\n",
    "import matplotlib.pyplot as plt\n",
    "import matplotlib # font 변환\n",
    "\n",
    "%matplotlib inline\n",
    "\n",
    "matplotlib.rcParams['font.family']='Malgun Gothic'\n",
    "matplotlib.rcParams['axes.unicode_minus']=False"
   ]
  },
  {
   "cell_type": "code",
   "execution_count": 9,
   "metadata": {},
   "outputs": [],
   "source": [
    "path = \"../Resources/\""
   ]
  },
  {
   "cell_type": "code",
   "execution_count": 10,
   "metadata": {},
   "outputs": [],
   "source": [
    "# csv 파일 불러오기\n",
    "# pd.read_csv('%s1행정구역_시군구_별__성별_인구수.csv' % path, encoding='euc-kr')\n",
    "# csv 파일로 새로 저장할 때\n",
    "#Dead_Cause.to_csv(\"testfile.csv\", mode ='w', encoding='ms949')"
   ]
  },
  {
   "cell_type": "code",
   "execution_count": 42,
   "metadata": {},
   "outputs": [],
   "source": [
    "# 통계 관련 함수 모음\n",
    "def data_range(x) :\n",
    "    return max(x) - min(x)\n",
    "\n",
    "def quartile(x,p) :\n",
    "    p_index = int(p * len(x)) \n",
    "    return sorted(x) [p_index] \n",
    "\n",
    "def interquartile_range(x): \n",
    "    return quartile(x,0.75) - quartile(x,0.25)\n",
    "\n",
    "def mean(x):\n",
    "    # 평균\n",
    "    return sum(x) / len(x)\n",
    "\n",
    "def dot(v,w):\n",
    "    # 점 리스트 \n",
    "    return sum(v_i * w_i for v_i, w_i in zip (v,w))\n",
    "\n",
    "def sum_of_squares(v):\n",
    "    return dot(v,v)\n",
    "    \n",
    "def de_mean(x):\n",
    "    # 편차\n",
    "    x_bar = mean(x)\n",
    "    return [x_i - x_bar for x_i in x]\n",
    "\n",
    "def standard_deviation(x):\n",
    "    # 표준편차\n",
    "    return math.sqrt(variance(x))\n",
    "\n",
    "def variance(x):\n",
    "    # 분산\n",
    "    n = len(x)\n",
    "    deviations = de_mean(x) # 편차\n",
    "    return sum_of_squares(deviations) / (n-1)\n",
    "\n",
    "def covariance(x,y):\n",
    "    # 공분산\n",
    "    n = len(x)\n",
    "    return dot(de_mean(x), de_mean(y)) / (n-1)\n",
    "\n",
    "def correlation(x,y):\n",
    "    # 상관관계\n",
    "    stdev_x = standard_deviation(x)\n",
    "    stdev_y = standard_deviation(y)\n",
    "    if stdev_x > 0 and stdev_y > 0:\n",
    "        return covariance(x,y) / stdev_x / stdev_y\n",
    "    else:\n",
    "        return 0"
   ]
  },
  {
   "cell_type": "code",
   "execution_count": 48,
   "metadata": {},
   "outputs": [],
   "source": [
    "# 함수와 전역 변수 모음\n",
    "MaxCnt = 16\n",
    "\n",
    "def DrawScatterChart(_xlable, _ylabel, x, y, title, grid = False):\n",
    "    # x_lable, y_lable, x, y, title, grid\n",
    "    fig = plt.figure()\n",
    "    ax = fig.add_subplot(1,1,1)\n",
    "    \n",
    "    ax.scatter(x,y)\n",
    "    \n",
    "    # linear regression line\n",
    "    a,b = np.polyfit(np.array(x), np.array(y), 1)\n",
    "    f = lambda x: a * x + b\n",
    "    \n",
    "    tx = np.array([min(x), max(x)])\n",
    "    ax.plot(tx,f(tx), c='r')\n",
    "    \n",
    "    ax.title.set_text(title)\n",
    "    ax.set_xlabel(_xlable)\n",
    "    ax.set_ylabel(_ylabel)\n",
    "    \n",
    "    if grid:\n",
    "        ax.grid()\n",
    "    \n",
    "    plt.show()\n",
    "    \n",
    "    # 상관관계 값 출력\n",
    "    print(\"상관 계수 :\", correlation(x,y))\n",
    "    # 선형방정식 출력\n",
    "    print(\"선형방정식 : y= {:.2}x {:+.2}\".format(a,b))\n",
    "    \n",
    "def DrawBarChart(_xlable, _ylabel, x, y, title, tag, grid = False):\n",
    "    # append chart tags\n",
    "    fig = plt.figure()\n",
    "    ax = fig.add_subplot(1,1,1)\n",
    "    \n",
    "    ax.bar(x,y)\n",
    "    \n",
    "    xlen = len(x)\n",
    "    \n",
    "    #ax.set_xlim(min(x),max(x))\n",
    "    #plt.xticks([i for i in x], tags)\n",
    "    #ax.set_xticks([i for i in x])\n",
    "    #ax.set_xticklabels(tags)\n",
    "    \n",
    "    \n",
    "    # label 회전\n",
    "    for label in ax.xaxis.get_ticklabels():\n",
    "        label.set_rotation(45)\n",
    "    \n",
    "    ax.title.set_text(title)\n",
    "    \n",
    "    if grid:\n",
    "        ax.grid()\n",
    "    \n",
    "    plt.show()"
   ]
  },
  {
   "cell_type": "code",
   "execution_count": 27,
   "metadata": {},
   "outputs": [],
   "source": [
    "# csv 파일 불러오기\n",
    "# 1,2,6 번 리소스 세종시 포함\n",
    "rc1 = People = pd.read_csv('%s1행정구역_시군구_별__성별_인구수.csv' % path, encoding='euc-kr')\n",
    "rc2 = Car= pd.read_csv('%s2_1인당_자동차_등록대수_시도_시_군_구.csv'% path, encoding='euc-kr')\n",
    "rc3 = emergencyTime = pd.read_csv('%s3발병_후_응급실_도착_소요시간_현황_시도별.csv' % path, encoding='euc-kr')\n",
    "rc4 = emergencyZinryo = pd.read_csv('%s4응급진료결과_현황_시도별.csv'% path, encoding='euc-kr')\n",
    "rc5 = Medic = pd.read_csv('%s5보건의료기관_소재지_및_종류별_활동_보건의료인력수.csv' % path, encoding='euc-kr')\n",
    "rc6 = Eungp = pd.read_csv('%s6응급의료기관_및_응급의료기관외_응급실_운영기관_수_시도별.csv' % path, encoding='euc-kr')\n",
    "\n",
    "# 예외 처리\n",
    "rc1.drop(9, inplace=True)\n",
    "rc2.drop(8, inplace=True)\n",
    "rc6.drop(9, inplace=True)\n",
    "\n",
    "# 서울 ~ 제주 지역 이름, 세종 제외\n",
    "area = rc6['지역별(1)'][2:].values"
   ]
  },
  {
   "cell_type": "code",
   "execution_count": 58,
   "metadata": {},
   "outputs": [],
   "source": [
    "# TotalDataSet Setting\n",
    "TotalDataSet = pd.DataFrame()\n",
    "TotalDataSet['지역별'] = area\n",
    "TotalDataSet['인원'] = np.array(rc1['2015. 12'][2:].values, dtype=int)\n",
    "TotalDataSet['인당 차량보유수']=np.array(rc2['2015'][1:].values, dtype=float)\n",
    "TotalDataSet['30분 미만'] = np.array(rc3['2015.1'][2:].values, dtype=int)\n",
    "TotalDataSet['이송 중 사망자 수'] = np.array(rc4['2015.9'][3:].values, dtype=int)\n",
    "TotalDataSet['응급 의료 기관 수'] = np.array(rc6['2015'][2:].values, dtype=int)"
   ]
  },
  {
   "cell_type": "code",
   "execution_count": 59,
   "metadata": {},
   "outputs": [
    {
     "data": {
      "text/html": [
       "<div>\n",
       "<style scoped>\n",
       "    .dataframe tbody tr th:only-of-type {\n",
       "        vertical-align: middle;\n",
       "    }\n",
       "\n",
       "    .dataframe tbody tr th {\n",
       "        vertical-align: top;\n",
       "    }\n",
       "\n",
       "    .dataframe thead th {\n",
       "        text-align: right;\n",
       "    }\n",
       "</style>\n",
       "<table border=\"1\" class=\"dataframe\">\n",
       "  <thead>\n",
       "    <tr style=\"text-align: right;\">\n",
       "      <th></th>\n",
       "      <th>지역별</th>\n",
       "      <th>인원</th>\n",
       "      <th>인당 차량보유수</th>\n",
       "      <th>30분 미만</th>\n",
       "      <th>이송 중 사망자 수</th>\n",
       "      <th>응급 의료 기관 수</th>\n",
       "    </tr>\n",
       "  </thead>\n",
       "  <tbody>\n",
       "    <tr>\n",
       "      <th>0</th>\n",
       "      <td>서울</td>\n",
       "      <td>10022181</td>\n",
       "      <td>0.30</td>\n",
       "      <td>121894</td>\n",
       "      <td>3620</td>\n",
       "      <td>68</td>\n",
       "    </tr>\n",
       "    <tr>\n",
       "      <th>1</th>\n",
       "      <td>부산</td>\n",
       "      <td>3513777</td>\n",
       "      <td>0.36</td>\n",
       "      <td>15103</td>\n",
       "      <td>134</td>\n",
       "      <td>39</td>\n",
       "    </tr>\n",
       "    <tr>\n",
       "      <th>2</th>\n",
       "      <td>대구</td>\n",
       "      <td>2487829</td>\n",
       "      <td>0.44</td>\n",
       "      <td>14394</td>\n",
       "      <td>290</td>\n",
       "      <td>28</td>\n",
       "    </tr>\n",
       "    <tr>\n",
       "      <th>3</th>\n",
       "      <td>인천</td>\n",
       "      <td>2925815</td>\n",
       "      <td>0.46</td>\n",
       "      <td>31787</td>\n",
       "      <td>650</td>\n",
       "      <td>21</td>\n",
       "    </tr>\n",
       "    <tr>\n",
       "      <th>4</th>\n",
       "      <td>광주</td>\n",
       "      <td>1472199</td>\n",
       "      <td>0.42</td>\n",
       "      <td>16136</td>\n",
       "      <td>179</td>\n",
       "      <td>24</td>\n",
       "    </tr>\n",
       "    <tr>\n",
       "      <th>5</th>\n",
       "      <td>대전</td>\n",
       "      <td>1518775</td>\n",
       "      <td>0.42</td>\n",
       "      <td>21327</td>\n",
       "      <td>319</td>\n",
       "      <td>11</td>\n",
       "    </tr>\n",
       "    <tr>\n",
       "      <th>6</th>\n",
       "      <td>울산</td>\n",
       "      <td>1173534</td>\n",
       "      <td>0.45</td>\n",
       "      <td>5685</td>\n",
       "      <td>80</td>\n",
       "      <td>13</td>\n",
       "    </tr>\n",
       "    <tr>\n",
       "      <th>7</th>\n",
       "      <td>경기</td>\n",
       "      <td>12522606</td>\n",
       "      <td>0.39</td>\n",
       "      <td>112453</td>\n",
       "      <td>3172</td>\n",
       "      <td>91</td>\n",
       "    </tr>\n",
       "    <tr>\n",
       "      <th>8</th>\n",
       "      <td>강원</td>\n",
       "      <td>1549507</td>\n",
       "      <td>0.45</td>\n",
       "      <td>17090</td>\n",
       "      <td>825</td>\n",
       "      <td>28</td>\n",
       "    </tr>\n",
       "    <tr>\n",
       "      <th>9</th>\n",
       "      <td>충북</td>\n",
       "      <td>1583952</td>\n",
       "      <td>0.46</td>\n",
       "      <td>14148</td>\n",
       "      <td>460</td>\n",
       "      <td>21</td>\n",
       "    </tr>\n",
       "    <tr>\n",
       "      <th>10</th>\n",
       "      <td>충남</td>\n",
       "      <td>2077649</td>\n",
       "      <td>0.47</td>\n",
       "      <td>19708</td>\n",
       "      <td>548</td>\n",
       "      <td>22</td>\n",
       "    </tr>\n",
       "    <tr>\n",
       "      <th>11</th>\n",
       "      <td>전북</td>\n",
       "      <td>1869711</td>\n",
       "      <td>0.45</td>\n",
       "      <td>13821</td>\n",
       "      <td>435</td>\n",
       "      <td>23</td>\n",
       "    </tr>\n",
       "    <tr>\n",
       "      <th>12</th>\n",
       "      <td>전남</td>\n",
       "      <td>1908996</td>\n",
       "      <td>0.47</td>\n",
       "      <td>12003</td>\n",
       "      <td>331</td>\n",
       "      <td>50</td>\n",
       "    </tr>\n",
       "    <tr>\n",
       "      <th>13</th>\n",
       "      <td>경북</td>\n",
       "      <td>2702826</td>\n",
       "      <td>0.48</td>\n",
       "      <td>31129</td>\n",
       "      <td>1064</td>\n",
       "      <td>37</td>\n",
       "    </tr>\n",
       "    <tr>\n",
       "      <th>14</th>\n",
       "      <td>경남</td>\n",
       "      <td>3364702</td>\n",
       "      <td>0.46</td>\n",
       "      <td>22193</td>\n",
       "      <td>308</td>\n",
       "      <td>61</td>\n",
       "    </tr>\n",
       "    <tr>\n",
       "      <th>15</th>\n",
       "      <td>제주</td>\n",
       "      <td>624395</td>\n",
       "      <td>0.70</td>\n",
       "      <td>17724</td>\n",
       "      <td>426</td>\n",
       "      <td>7</td>\n",
       "    </tr>\n",
       "  </tbody>\n",
       "</table>\n",
       "</div>"
      ],
      "text/plain": [
       "   지역별        인원  인당 차량보유수  30분 미만  이송 중 사망자 수  응급 의료 기관 수\n",
       "0   서울  10022181      0.30  121894        3620          68\n",
       "1   부산   3513777      0.36   15103         134          39\n",
       "2   대구   2487829      0.44   14394         290          28\n",
       "3   인천   2925815      0.46   31787         650          21\n",
       "4   광주   1472199      0.42   16136         179          24\n",
       "5   대전   1518775      0.42   21327         319          11\n",
       "6   울산   1173534      0.45    5685          80          13\n",
       "7   경기  12522606      0.39  112453        3172          91\n",
       "8   강원   1549507      0.45   17090         825          28\n",
       "9   충북   1583952      0.46   14148         460          21\n",
       "10  충남   2077649      0.47   19708         548          22\n",
       "11  전북   1869711      0.45   13821         435          23\n",
       "12  전남   1908996      0.47   12003         331          50\n",
       "13  경북   2702826      0.48   31129        1064          37\n",
       "14  경남   3364702      0.46   22193         308          61\n",
       "15  제주    624395      0.70   17724         426           7"
      ]
     },
     "execution_count": 59,
     "metadata": {},
     "output_type": "execute_result"
    }
   ],
   "source": [
    "TotalDataSet"
   ]
  },
  {
   "cell_type": "code",
   "execution_count": 61,
   "metadata": {},
   "outputs": [],
   "source": [
    "# DataSet1_6 Setting\n",
    "DataSet1_6 = pd.DataFrame()\n",
    "DataSet1_6['지역별'] = area\n",
    "DataSet1_6['응급 의료 기관 수'] = TotalDataSet['응급 의료 기관 수']\n",
    "DataSet1_6['인원'] = TotalDataSet['인원']"
   ]
  },
  {
   "cell_type": "code",
   "execution_count": 62,
   "metadata": {},
   "outputs": [],
   "source": [
    "# DataSet3_6 Setting\n",
    "DataSet3_6 = pd.DataFrame()\n",
    "DataSet3_6['지역별'] = area\n",
    "DataSet3_6['응급 의료 기관 수'] = TotalDataSet['응급 의료 기관 수']\n",
    "DataSet3_6['30분 미만'] = TotalDataSet['30분 미만']"
   ]
  },
  {
   "cell_type": "code",
   "execution_count": 63,
   "metadata": {},
   "outputs": [],
   "source": [
    "# DataSet 4_6 Setting\n",
    "DataSet4_6 = pd.DataFrame()\n",
    "DataSet4_6['지역'] = rc6['지역별(1)'][2:].values\n",
    "DataSet4_6['응급 의료 기관 수'] = np.array(rc6['2015'][2:].values, dtype=int)\n",
    "# 세종 제외\n",
    "DataSet4_6['이송 중 사망자 수'] = np.array(rc4['2015.9'][3:].values, dtype=int)"
   ]
  },
  {
   "cell_type": "code",
   "execution_count": 64,
   "metadata": {},
   "outputs": [],
   "source": [
    "# DataSet1_3 Setting\n",
    "DataSet1_3 = pd.DataFrame()\n",
    "DataSet1_3['지역별'] = area\n",
    "\n",
    "DataSet1_3['응급 의료 기관 수'] = TotalDataSet['응급 의료 기관 수']\n",
    "DataSet1_3['인원'] = TotalDataSet['인원']\n",
    "DataSet1_3['인당 차량보유수']= TotalDataSet['인당 차량보유수']\n",
    "\n",
    "tempList= [DataSet1_3['인원'][i] * DataSet1_3['인당 차량보유수'][i] for i in range(MaxCnt)]\n",
    "\n",
    "DataSet1_3['지역별 차량수']= tempList"
   ]
  },
  {
   "cell_type": "code",
   "execution_count": 77,
   "metadata": {},
   "outputs": [],
   "source": [
    "# DataSet1_3_3DataSet1_3_3g\n",
    "DataSet1_3_3 =pd.DataFrame()\n",
    "DataSet1_3_3['지역별'] = area\n",
    "\n",
    "DataSet1_3_3['30분 미만'] = TotalDataSet['30분 미만']\n",
    "DataSet1_3_3['지역별 차량수']= DataSet1_3['지역별 차량수']"
   ]
  },
  {
   "cell_type": "code",
   "execution_count": 68,
   "metadata": {},
   "outputs": [
    {
     "data": {
      "image/png": "[encoded data removed]",
      "text/plain": [
       "<Figure size 432x288 with 1 Axes>"
      ]
     },
     "metadata": {
      "needs_background": "light"
     },
     "output_type": "display_data"
    },
    {
     "name": "stdout",
     "output_type": "stream",
     "text": [
      "상관 계수 : 0.7647129591500786\n",
      "선형방정식 : y= 1.2e+03x -8.7e+03\n"
     ]
    },
    {
     "data": {
      "text/plain": [
       "(None,)"
      ]
     },
     "execution_count": 68,
     "metadata": {},
     "output_type": "execute_result"
    }
   ],
   "source": [
    "# DataSet3_6 그래프\n",
    "DrawScatterChart(\"응급 의료 기관 수\",\"응급실 도착 소요시간(30분 미만)\",  DataSet3_6['응급 의료 기관 수'].values, DataSet3_6['30분 미만'].values,'응급 의료 기관 수 x 응급실 도착 소요시간'),"
   ]
  },
  {
   "cell_type": "code",
   "execution_count": 75,
   "metadata": {},
   "outputs": [
    {
     "data": {
      "image/png": "[encoded data removed]",
      "text/plain": [
       "<Figure size 432x288 with 1 Axes>"
      ]
     },
     "metadata": {
      "needs_background": "light"
     },
     "output_type": "display_data"
    },
    {
     "name": "stdout",
     "output_type": "stream",
     "text": [
      "상관 계수 : 0.7401156086694238\n",
      "선형방정식 : y= 3.4e+01x -3.4e+02\n"
     ]
    },
    {
     "data": {
      "text/plain": [
       "(None,)"
      ]
     },
     "execution_count": 75,
     "metadata": {},
     "output_type": "execute_result"
    }
   ],
   "source": [
    "# DataSet4_6 그래프\n",
    "DrawScatterChart(\"응급 의료 기관 수\",\"이송 중 사망자 수\",  DataSet4_6['응급 의료 기관 수'].values, DataSet4_6['이송 중 사망자 수'].values,'응급 의료 기관 수 x 이송 중 사망자 수'),"
   ]
  },
  {
   "cell_type": "code",
   "execution_count": 83,
   "metadata": {
    "scrolled": true
   },
   "outputs": [],
   "source": [
    "#DataSet1_6.sort_values(by=['인원'])"
   ]
  },
  {
   "cell_type": "code",
   "execution_count": 73,
   "metadata": {},
   "outputs": [
    {
     "data": {
      "image/png": "[encoded data removed]",
      "text/plain": [
       "<Figure size 432x288 with 1 Axes>"
      ]
     },
     "metadata": {
      "needs_background": "light"
     },
     "output_type": "display_data"
    },
    {
     "name": "stdout",
     "output_type": "stream",
     "text": [
      "상관 계수 : 0.8709596430306047\n",
      "선형방정식 : y= 6.1e-06x +1.4e+01\n"
     ]
    }
   ],
   "source": [
    "DrawScatterChart(\"인원 수\",\"응급실 수\", DataSet1_6['인원'].values, DataSet1_6['응급 의료 기관 수'].values, '인원 x 응급실 상관관계')"
   ]
  },
  {
   "cell_type": "code",
   "execution_count": 74,
   "metadata": {},
   "outputs": [
    {
     "data": {
      "image/png": "[encoded data removed]",
      "text/plain": [
       "<Figure size 432x288 with 1 Axes>"
      ]
     },
     "metadata": {
      "needs_background": "light"
     },
     "output_type": "display_data"
    },
    {
     "name": "stdout",
     "output_type": "stream",
     "text": [
      "상관 계수 : 0.9821131778946582\n",
      "선형방정식 : y= 0.34x +2.1e+05\n"
     ]
    }
   ],
   "source": [
    "DrawScatterChart('인원수','지역별 차량수',DataSet1_3['인원'].values, DataSet1_3['지역별 차량수'].values, '인원 x 지역별 차량수 상관관계')"
   ]
  },
  {
   "cell_type": "code",
   "execution_count": 78,
   "metadata": {},
   "outputs": [
    {
     "data": {
      "image/png": "[encoded data removed]",
      "text/plain": [
       "<Figure size 432x288 with 1 Axes>"
      ]
     },
     "metadata": {
      "needs_background": "light"
     },
     "output_type": "display_data"
    },
    {
     "name": "stdout",
     "output_type": "stream",
     "text": [
      "상관 계수 : 0.9086947999497157\n",
      "선형방정식 : y= 0.028x -5.6e+03\n"
     ]
    }
   ],
   "source": [
    "DrawScatterChart('지역별 차량수','응급실 도착 소요 시간', DataSet1_3_3['지역별 차량수'].values, DataSet1_3_3['30분 미만'].values, '지역별 차량수 x 응급실 도착 소요 시간 상관관계')"
   ]
  },
  {
   "cell_type": "code",
   "execution_count": null,
   "metadata": {},
   "outputs": [],
   "source": []
  }
 ],
 "metadata": {
  "kernelspec": {
   "display_name": "Python 3",
   "language": "python",
   "name": "python3"
  },
  "language_info": {
   "codemirror_mode": {
    "name": "ipython",
    "version": 3
   },
   "file_extension": ".py",
   "mimetype": "text/x-python",
   "name": "python",
   "nbconvert_exporter": "python",
   "pygments_lexer": "ipython3",
   "version": "3.7.4"
  }
 },
 "nbformat": 4,
 "nbformat_minor": 2
}
