{
 "cells": [
  {
   "cell_type": "code",
   "execution_count": 2,
   "metadata": {},
   "outputs": [],
   "source": [
    "import pandas as pd\n",
    "import numpy as np\n",
    "import math\n",
    "import matplotlib.pyplot as plt\n",
    "import matplotlib # font 변환\n",
    "\n",
    "%matplotlib inline\n",
    "\n",
    "matplotlib.rcParams['font.family']='Malgun Gothic'\n",
    "matplotlib.rcParams['axes.unicode_minus']=False"
   ]
  },
  {
   "cell_type": "code",
   "execution_count": 3,
   "metadata": {},
   "outputs": [],
   "source": [
    "path = \"../Resources/\""
   ]
  },
  {
   "cell_type": "code",
   "execution_count": 4,
   "metadata": {},
   "outputs": [],
   "source": [
    "# csv 파일 불러오기\n",
    "#Dead_Cause = pd.read_csv('../Resources/사망원인_103항목__성_시도별_사망자수_20190730101054.csv', encoding='euc-kr')"
   ]
  },
  {
   "cell_type": "code",
   "execution_count": 5,
   "metadata": {},
   "outputs": [],
   "source": [
    "# csv 파일로 새로 저장할 때\n",
    "#Dead_Cause.to_csv(\"testfile.csv\", mode ='w', encoding='ms949')"
   ]
  },
  {
   "cell_type": "code",
   "execution_count": 17,
   "metadata": {},
   "outputs": [],
   "source": [
    "def DrawSimpleChart(_xlable, _ylabel, x, y, tags, title):\n",
    "    # x_lable, y_lable, x, y, title\n",
    "    fig = plt.figure()\n",
    "    ax = fig.add_subplot(1,1,1)\n",
    "    \n",
    "    ax.scatter(x,y)\n",
    "        \n",
    "    #ax.set_xlim(min(x),max(x))\n",
    "    #plt.xticks([i for i in x], tags)\n",
    "    #ax.set_xticks([i for i in x])\n",
    "    #ax.set_xticklabels(tags)\n",
    "    \n",
    "    # linear regression line\n",
    "    a,b = np.polyfit(np.array(x), np.array(y), 1)\n",
    "    f = lambda x: a * x + b\n",
    "#     ax.set_xticks([min(x), max(x)])\n",
    "    \n",
    "    tx = np.array([min(x), max(x)])\n",
    "    ax.plot(tx,f(tx), c='r')\n",
    "    \n",
    "    # label 회전\n",
    "#     for label in ax.xaxis.get_ticklabels():\n",
    "#         label.set_rotation(45)\n",
    "    \n",
    "    ax.title.set_text(title)\n",
    "    # 선형방정식 출력    \n",
    "    ax.set_xlabel(_xlable+'y= {:.2}x {:+.2}'.format(a,b))\n",
    "    ax.set_ylabel(_ylabel)\n",
    "    \n",
    "    #ax.grid()\n",
    "    plt.show()\n",
    "    \n",
    "    # 상관관계 값 출력\n",
    "    print(correlation(x,y))"
   ]
  },
  {
   "cell_type": "code",
   "execution_count": 42,
   "metadata": {},
   "outputs": [
    {
     "data": {
      "text/plain": [
       "numpy.ndarray"
      ]
     },
     "execution_count": 42,
     "metadata": {},
     "output_type": "execute_result"
    }
   ],
   "source": [
    "# csv 파일 불러오기\n",
    "# 1,2,6 번 리소스 세종시 포함\n",
    "rc1 = People = pd.read_csv('%s1행정구역_시군구_별__성별_인구수.csv' % path, encoding='euc-kr')\n",
    "rc2 = Car= pd.read_csv('%s2_1인당_자동차_등록대수_시도_시_군_구.csv'% path, encoding='euc-kr')\n",
    "rc3 = emergencyTime = pd.read_csv('%s3발병_후_응급실_도착_소요시간_현황_시도별.csv' % path, encoding='euc-kr')\n",
    "rc4 = emergencyZinryo = pd.read_csv('%s4응급진료결과_현황_시도별.csv'% path, encoding='euc-kr')\n",
    "rc5 = Medic = pd.read_csv('%s5보건의료기관_소재지_및_종류별_활동_보건의료인력수.csv' % path, encoding='euc-kr')\n",
    "rc6 = Eungp = pd.read_csv('%s6응급의료기관_및_응급의료기관외_응급실_운영기관_수_시도별.csv' % path, encoding='euc-kr')\n",
    "\n",
    "# 서울 ~ 제주 지역 이름\n",
    "area = rc6['지역별(1)'][2:].values\n",
    "type(area)"
   ]
  },
  {
   "cell_type": "code",
   "execution_count": 39,
   "metadata": {},
   "outputs": [],
   "source": [
    "# DataSet1_6 Setting\n",
    "DataSet1_6 = pd.DataFrame()\n",
    "DataSet1_6['지역별'] = area\n",
    "DataSet1_6['응급실 수'] = np.array(rc6['2015'][2:].values, dtype=int)\n",
    "DataSet1_6['인원'] = np.array(rc1['2019. 06'][2:].values, dtype=int)\n",
    "# 세종 제외\n",
    "DataSet1_6.drop(7 ,inplace=True)"
   ]
  },
  {
   "cell_type": "code",
   "execution_count": 40,
   "metadata": {},
   "outputs": [],
   "source": [
    "# DataSet1_3 Setting\n",
    "DataSet1_3 = pd.DataFrame()\n",
    "DataSet1_3['지역별'] = area\n",
    "DataSet1_3['응급실 수'] = np.array(rc6['2015'][2:].values, dtype=int)\n",
    "DataSet1_3['인원'] = np.array(rc1['2019. 06'][2:].values, dtype=int)"
   ]
  },
  {
   "cell_type": "code",
   "execution_count": 33,
   "metadata": {
    "scrolled": true
   },
   "outputs": [
    {
     "data": {
      "text/html": [
       "<div>\n",
       "<style scoped>\n",
       "    .dataframe tbody tr th:only-of-type {\n",
       "        vertical-align: middle;\n",
       "    }\n",
       "\n",
       "    .dataframe tbody tr th {\n",
       "        vertical-align: top;\n",
       "    }\n",
       "\n",
       "    .dataframe thead th {\n",
       "        text-align: right;\n",
       "    }\n",
       "</style>\n",
       "<table border=\"1\" class=\"dataframe\">\n",
       "  <thead>\n",
       "    <tr style=\"text-align: right;\">\n",
       "      <th></th>\n",
       "      <th>지역별</th>\n",
       "      <th>응급실 수</th>\n",
       "      <th>인원</th>\n",
       "    </tr>\n",
       "  </thead>\n",
       "  <tbody>\n",
       "    <tr>\n",
       "      <th>0</th>\n",
       "      <td>서울</td>\n",
       "      <td>68</td>\n",
       "      <td>9757144</td>\n",
       "    </tr>\n",
       "    <tr>\n",
       "      <th>1</th>\n",
       "      <td>부산</td>\n",
       "      <td>39</td>\n",
       "      <td>3427632</td>\n",
       "    </tr>\n",
       "    <tr>\n",
       "      <th>2</th>\n",
       "      <td>대구</td>\n",
       "      <td>28</td>\n",
       "      <td>2450478</td>\n",
       "    </tr>\n",
       "    <tr>\n",
       "      <th>3</th>\n",
       "      <td>인천</td>\n",
       "      <td>21</td>\n",
       "      <td>2957024</td>\n",
       "    </tr>\n",
       "    <tr>\n",
       "      <th>4</th>\n",
       "      <td>광주</td>\n",
       "      <td>24</td>\n",
       "      <td>1459024</td>\n",
       "    </tr>\n",
       "    <tr>\n",
       "      <th>5</th>\n",
       "      <td>대전</td>\n",
       "      <td>11</td>\n",
       "      <td>1482938</td>\n",
       "    </tr>\n",
       "    <tr>\n",
       "      <th>6</th>\n",
       "      <td>울산</td>\n",
       "      <td>13</td>\n",
       "      <td>1151301</td>\n",
       "    </tr>\n",
       "    <tr>\n",
       "      <th>7</th>\n",
       "      <td>세종</td>\n",
       "      <td>2</td>\n",
       "      <td>327643</td>\n",
       "    </tr>\n",
       "    <tr>\n",
       "      <th>8</th>\n",
       "      <td>경기</td>\n",
       "      <td>91</td>\n",
       "      <td>13159178</td>\n",
       "    </tr>\n",
       "    <tr>\n",
       "      <th>9</th>\n",
       "      <td>강원</td>\n",
       "      <td>28</td>\n",
       "      <td>1540855</td>\n",
       "    </tr>\n",
       "    <tr>\n",
       "      <th>10</th>\n",
       "      <td>충북</td>\n",
       "      <td>21</td>\n",
       "      <td>1599650</td>\n",
       "    </tr>\n",
       "    <tr>\n",
       "      <th>11</th>\n",
       "      <td>충남</td>\n",
       "      <td>22</td>\n",
       "      <td>2125855</td>\n",
       "    </tr>\n",
       "    <tr>\n",
       "      <th>12</th>\n",
       "      <td>전북</td>\n",
       "      <td>23</td>\n",
       "      <td>1826717</td>\n",
       "    </tr>\n",
       "    <tr>\n",
       "      <th>13</th>\n",
       "      <td>전남</td>\n",
       "      <td>50</td>\n",
       "      <td>1870587</td>\n",
       "    </tr>\n",
       "    <tr>\n",
       "      <th>14</th>\n",
       "      <td>경북</td>\n",
       "      <td>37</td>\n",
       "      <td>2669850</td>\n",
       "    </tr>\n",
       "    <tr>\n",
       "      <th>15</th>\n",
       "      <td>경남</td>\n",
       "      <td>61</td>\n",
       "      <td>3366989</td>\n",
       "    </tr>\n",
       "    <tr>\n",
       "      <th>16</th>\n",
       "      <td>제주</td>\n",
       "      <td>7</td>\n",
       "      <td>669771</td>\n",
       "    </tr>\n",
       "  </tbody>\n",
       "</table>\n",
       "</div>"
      ],
      "text/plain": [
       "   지역별  응급실 수        인원\n",
       "0   서울     68   9757144\n",
       "1   부산     39   3427632\n",
       "2   대구     28   2450478\n",
       "3   인천     21   2957024\n",
       "4   광주     24   1459024\n",
       "5   대전     11   1482938\n",
       "6   울산     13   1151301\n",
       "7   세종      2    327643\n",
       "8   경기     91  13159178\n",
       "9   강원     28   1540855\n",
       "10  충북     21   1599650\n",
       "11  충남     22   2125855\n",
       "12  전북     23   1826717\n",
       "13  전남     50   1870587\n",
       "14  경북     37   2669850\n",
       "15  경남     61   3366989\n",
       "16  제주      7    669771"
      ]
     },
     "execution_count": 33,
     "metadata": {},
     "output_type": "execute_result"
    }
   ],
   "source": [
    "#DataSet1_6.sort_values(by=['인원'])\n",
    "DataSet1_3"
   ]
  },
  {
   "cell_type": "code",
   "execution_count": 19,
   "metadata": {},
   "outputs": [
    {
     "data": {
      "image/png": "[encoded data removed]",
      "text/plain": [
       "<Figure size 432x288 with 1 Axes>"
      ]
     },
     "metadata": {
      "needs_background": "light"
     },
     "output_type": "display_data"
    },
    {
     "name": "stdout",
     "output_type": "stream",
     "text": [
      "0.872645075765952\n"
     ]
    }
   ],
   "source": [
    "DrawSimpleChart(\"인원 수\",\"응급실 수\", DataSet1_6['인원'].values, DataSet1_6['응급실 수'].values, DataSet1_6['지역별'].values, '인원 x 응급실 상관관계')"
   ]
  },
  {
   "cell_type": "code",
   "execution_count": 14,
   "metadata": {},
   "outputs": [],
   "source": [
    "def data_range(x) :\n",
    "    return max(x) - min(x)\n",
    "\n",
    "def quartile(x,p) :\n",
    "    p_index = int(p * len(x)) \n",
    "    return sorted(x) [p_index] \n",
    "\n",
    "def interquartile_range(x): \n",
    "    return quartile(x,0.75) - quartile(x,0.25)\n",
    "\n",
    "def mean(x):\n",
    "    # 평균\n",
    "    return sum(x) / len(x)\n",
    "\n",
    "def dot(v,w):\n",
    "    # 점 리스트 \n",
    "    return sum(v_i * w_i for v_i, w_i in zip (v,w))\n",
    "\n",
    "def sum_of_squares(v):\n",
    "    return dot(v,v)\n",
    "    \n",
    "def de_mean(x):\n",
    "    # 편차\n",
    "    x_bar = mean(x)\n",
    "    return [x_i - x_bar for x_i in x]\n",
    "\n",
    "def standard_deviation(x):\n",
    "    # 표준편차\n",
    "    return math.sqrt(variance(x))\n",
    "\n",
    "def variance(x):\n",
    "    # 분산\n",
    "    n = len(x)\n",
    "    deviations = de_mean(x) # 편차\n",
    "    return sum_of_squares(deviations) / (n-1)\n",
    "\n",
    "def covariance(x,y):\n",
    "    # 공분산\n",
    "    n = len(x)\n",
    "    return dot(de_mean(x), de_mean(y)) / (n-1)\n",
    "\n",
    "def correlation(x,y):\n",
    "    # 상관관계\n",
    "    stdev_x = standard_deviation(x)\n",
    "    stdev_y = standard_deviation(y)\n",
    "    if stdev_x > 0 and stdev_y > 0:\n",
    "        return covariance(x,y) / stdev_x / stdev_y\n",
    "    else:\n",
    "        return 0"
   ]
  },
  {
   "cell_type": "code",
   "execution_count": 131,
   "metadata": {},
   "outputs": [
    {
     "data": {
      "image/png": "[encoded data removed]",
      "text/plain": [
       "<Figure size 432x288 with 2 Axes>"
      ]
     },
     "metadata": {
      "needs_background": "light"
     },
     "output_type": "display_data"
    }
   ],
   "source": [
    "fg = plt.figure()\n",
    "# add_subplot(행,열,번째)\n",
    "scatterplot = fg.add_subplot(2,1,1)\n",
    "barplot = fg.add_subplot(2,1,2)\n",
    "\n",
    "x = range(0, 100)\n",
    "y = [v*v for v in x]\n",
    "\n",
    "#scatterplot.plot(x, y)\n",
    "scatterplot.title.set_text('scatter')\n",
    "scatterplot.set_xlabel('x')\n",
    "scatterplot.set_ylabel('xx')\n",
    "\n",
    "#barplot.plot(x, y)\n",
    "barplot.title.set_text('bar')\n",
    "barplot.set_xlabel('y')\n",
    "barplot.set_ylabel('yy')\n",
    "\n",
    "# x,y 값을 순서대로 입력. 데이터셋은 zip or dict or 2 lists\n",
    "scatterplot.scatter(x,y)\n",
    "barplot.bar(x, y)\n",
    "\n",
    "plt.tight_layout()\n",
    "plt.show()"
   ]
  },
  {
   "cell_type": "code",
   "execution_count": null,
   "metadata": {},
   "outputs": [],
   "source": []
  }
 ],
 "metadata": {
  "kernelspec": {
   "display_name": "Python 3",
   "language": "python",
   "name": "python3"
  },
  "language_info": {
   "codemirror_mode": {
    "name": "ipython",
    "version": 3
   },
   "file_extension": ".py",
   "mimetype": "text/x-python",
   "name": "python",
   "nbconvert_exporter": "python",
   "pygments_lexer": "ipython3",
   "version": "3.7.4"
  }
 },
 "nbformat": 4,
 "nbformat_minor": 2
}
